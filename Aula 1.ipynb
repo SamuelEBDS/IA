{
 "cells": [
  {
   "cell_type": "code",
   "execution_count": 2,
   "id": "b08f7541",
   "metadata": {},
   "outputs": [
    {
     "name": "stdout",
     "output_type": "stream",
     "text": [
      "Enter you name: Samuel\n",
      "Hello, Samuel !\n"
     ]
    }
   ],
   "source": [
    "name = input(\"Enter you name: \")\n",
    "print(\"Hello,\",name,\"!\")"
   ]
  },
  {
   "cell_type": "code",
   "execution_count": 3,
   "id": "e1c65c1a",
   "metadata": {},
   "outputs": [
    {
     "name": "stdout",
     "output_type": "stream",
     "text": [
      "Entre com a nota 1: 10\n",
      "Entre com a nota 2: 5\n",
      "Entre com a nota do trabalho: 7\n",
      "Media do aluno =  7.35\n"
     ]
    }
   ],
   "source": [
    "n1= float(input(\"Entre com a nota 1: \"))\n",
    "n2= float(input(\"Entre com a nota 2: \"))\n",
    "nt= float(input(\"Entre com a nota do trabalho: \"))\n",
    "\n",
    "media_prod = ((n1 + n2)/2) * 0.7 + nt*0.3\n",
    "\n",
    "print(\"Media do aluno = \", media_prod)"
   ]
  },
  {
   "cell_type": "code",
   "execution_count": 5,
   "id": "786e7f69",
   "metadata": {},
   "outputs": [
    {
     "name": "stdout",
     "output_type": "stream",
     "text": [
      "Quantidade de alunos:5\n",
      "Digite a nota do aluno:1\n",
      "Digite a nota do aluno:2\n",
      "Digite a nota do aluno:5\n",
      "Digite a nota do aluno:6\n",
      "Digite a nota do aluno:4\n",
      "Media da turma =  3.6\n"
     ]
    }
   ],
   "source": [
    "n_alunos = int(input(\"Quantidade de alunos:\"))\n",
    "l_notas = [0 for i in range(n_alunos)]\n",
    "\n",
    "#print(l_notas)\n",
    "\n",
    "for i in range(n_alunos):\n",
    "    l_notas[i] = float(input(\"Digite a nota do aluno:\"))\n",
    "    \n",
    "soma=0\n",
    "for elemento in l_notas:\n",
    "    soma += elemento\n",
    "    \n",
    "media = soma/n_alunos\n",
    "print(\"Media da turma = \", media)"
   ]
  },
  {
   "cell_type": "code",
   "execution_count": 6,
   "id": "f9d0936b",
   "metadata": {},
   "outputs": [
    {
     "name": "stdout",
     "output_type": "stream",
     "text": [
      "A soma dos elementos da P.A. é: 1650\n"
     ]
    }
   ],
   "source": [
    "#Escreva um programa em Python que calcule a soma de todos os elementos de\n",
    "#uma progressão aritmética (P.A.), que inicia em 2 e não tem valores maiores que\n",
    "#100, com razão igual a 3.\n",
    "\n",
    "# Definindo as variáveis iniciais\n",
    "primeiro = 2\n",
    "razao = 3\n",
    "soma = 0\n",
    "\n",
    "# Calculando a soma dos elementos da P.A.\n",
    "while primeiro <= 100:\n",
    "    soma += primeiro\n",
    "    primeiro += razao\n",
    "\n",
    "# Exibindo o resultado\n",
    "print(\"A soma dos elementos da P.A. é:\", soma)\n"
   ]
  },
  {
   "cell_type": "code",
   "execution_count": 7,
   "id": "a79c43f8",
   "metadata": {},
   "outputs": [
    {
     "name": "stdout",
     "output_type": "stream",
     "text": [
      "Digite o valor para a posição (0, 0): 5\n",
      "Digite o valor para a posição (0, 1): 4\n",
      "Digite o valor para a posição (0, 2): 6\n",
      "Digite o valor para a posição (1, 0): 2\n",
      "Digite o valor para a posição (1, 1): 3\n",
      "Digite o valor para a posição (1, 2): 7\n",
      "Digite o valor para a posição (2, 0): 8\n",
      "Digite o valor para a posição (2, 1): 9\n",
      "Digite o valor para a posição (2, 2): 4\n",
      "A soma da diagonal principal da matriz é: 12\n"
     ]
    }
   ],
   "source": [
    "# Definindo a matriz\n",
    "matriz = []\n",
    "\n",
    "# Lendo os valores da matriz\n",
    "for i in range(3):\n",
    "    linha = []\n",
    "    for j in range(3):\n",
    "        valor = int(input(\"Digite o valor para a posição ({}, {}): \".format(i, j)))\n",
    "        linha.append(valor)\n",
    "    matriz.append(linha)\n",
    "\n",
    "# Calculando a soma da diagonal principal\n",
    "soma = 0\n",
    "for i in range(3):\n",
    "    soma += matriz[i][i]\n",
    "\n",
    "# Exibindo o resultado\n",
    "print(\"A soma da diagonal principal da matriz é:\", soma)\n"
   ]
  },
  {
   "cell_type": "code",
   "execution_count": 1,
   "id": "70dc000a",
   "metadata": {},
   "outputs": [
    {
     "name": "stdout",
     "output_type": "stream",
     "text": [
      "Digite a quantidade de alunos na turma: 2\n",
      "Digite a nota do aluno 1: 10\n",
      "Digite a nota do aluno 2: 5\n",
      "A média da turma é 7.50\n"
     ]
    }
   ],
   "source": [
    "# Solicita a quantidade de alunos\n",
    "num_alunos = int(input(\"Digite a quantidade de alunos na turma: \"))\n",
    "\n",
    "# Inicializa uma lista vazia para armazenar as notas\n",
    "notas = []\n",
    "\n",
    "# Loop para ler as notas de cada aluno\n",
    "for i in range(num_alunos):\n",
    "    nota = float(input(f\"Digite a nota do aluno {i+1}: \"))\n",
    "    notas.append(nota)\n",
    "\n",
    "# Calcula a média da turma\n",
    "media = sum(notas) / len(notas)\n",
    "\n",
    "# Imprime a média na tela\n",
    "print(f\"A média da turma é {media:.2f}\")\n"
   ]
  },
  {
   "cell_type": "code",
   "execution_count": null,
   "id": "6d71ec12",
   "metadata": {},
   "outputs": [],
   "source": []
  },
  {
   "cell_type": "code",
   "execution_count": null,
   "id": "b8cfb9a3",
   "metadata": {},
   "outputs": [],
   "source": []
  }
 ],
 "metadata": {
  "kernelspec": {
   "display_name": "Python 3 (ipykernel)",
   "language": "python",
   "name": "python3"
  },
  "language_info": {
   "codemirror_mode": {
    "name": "ipython",
    "version": 3
   },
   "file_extension": ".py",
   "mimetype": "text/x-python",
   "name": "python",
   "nbconvert_exporter": "python",
   "pygments_lexer": "ipython3",
   "version": "3.11.1"
  }
 },
 "nbformat": 4,
 "nbformat_minor": 5
}
