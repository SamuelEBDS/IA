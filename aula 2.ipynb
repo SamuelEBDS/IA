{
 "cells": [
  {
   "cell_type": "code",
   "execution_count": 1,
   "id": "70f2d46d",
   "metadata": {},
   "outputs": [],
   "source": [
    "#Função que calcula a tensao, dadas a corrente e a resistencia\n",
    "def voltage(current, resist):\n",
    "    volt = resist * current\n",
    "    return volt"
   ]
  },
  {
   "cell_type": "code",
   "execution_count": 2,
   "id": "e752b566",
   "metadata": {},
   "outputs": [
    {
     "name": "stdout",
     "output_type": "stream",
     "text": [
      "Entre com a resistencia: 5\n",
      "Entre com a corrente: 6\n",
      "Tensao =  30.0\n"
     ]
    }
   ],
   "source": [
    "r = float(input(\"Entre com a resistencia: \"))\n",
    "c = float(input(\"Entre com a corrente: \"))\n",
    "t = voltage(c,r)\n",
    "\n",
    "print(\"Tensao = \", t)"
   ]
  },
  {
   "cell_type": "markdown",
   "id": "375325f5",
   "metadata": {},
   "source": [
    "#  Orientação a Objetos\n"
   ]
  },
  {
   "cell_type": "code",
   "execution_count": 19,
   "id": "1477fae0",
   "metadata": {},
   "outputs": [],
   "source": [
    "class Client:\n",
    "    def __init__(self, na, ph):\n",
    "        self.name = na\n",
    "        self.phone = ph\n",
    "    def print_profile(self):\n",
    "        print(\"%s (%s)\" % (self.name, self.phone))\n",
    "        \n",
    "class Account:\n",
    "    def __init__(self, cli, num, balance = 0):\n",
    "        self.balance = balance\n",
    "        self.client = cli\n",
    "        self.number = num\n",
    "    def summary(self):\n",
    "        print(\"Owner: \", self.client.name)\n",
    "        print(\"Number = %d, balance = $%.2f\" % (self.number, self.balance))\n",
    "    def debit(self, val):\n",
    "        if(self.balance >= val):\n",
    "            self.balance -= val\n",
    "    def credit(self, val):\n",
    "        self.balance += val"
   ]
  },
  {
   "cell_type": "code",
   "execution_count": 22,
   "id": "42559760",
   "metadata": {},
   "outputs": [
    {
     "name": "stdout",
     "output_type": "stream",
     "text": [
      "List of clients:\n",
      "John (555-1234)\n",
      "Mary (555-4090)\n",
      "\n",
      "Accounts:\n",
      "Owner:  John\n",
      "Number = 1, balance = $1000.00\n",
      "Owner:  Mary\n",
      "Number = 2, balance = $0.00\n",
      "\n",
      "Account updated\n",
      "Owner:  John\n",
      "Number = 1, balance = $850.00\n"
     ]
    }
   ],
   "source": [
    "#creating clients\n",
    "cl1 = Client(\"John\", \"555-1234\")\n",
    "cl2 = Client(\"Mary\", \"555-4090\")\n",
    "\n",
    "print(\"List of clients:\")\n",
    "cl1.print_profile()\n",
    "cl2.print_profile()\n",
    "\n",
    "#creating accounts\n",
    "acc1 = Account(cl1, 1, 1000)\n",
    "acc2 = Account(cl2, 2, 0)\n",
    "\n",
    "\n",
    "print(\"\\nAccounts:\")\n",
    "acc1.summary()\n",
    "acc2.summary()\n",
    "\n",
    "#managing account\n",
    "acc1.debit(150)\n",
    "acc2.credit(235)\n",
    "\n",
    "print(\"\\nAccount updated\")\n",
    "acc1.summary()"
   ]
  },
  {
   "cell_type": "code",
   "execution_count": null,
   "id": "09466c14",
   "metadata": {},
   "outputs": [],
   "source": []
  }
 ],
 "metadata": {
  "kernelspec": {
   "display_name": "Python 3 (ipykernel)",
   "language": "python",
   "name": "python3"
  },
  "language_info": {
   "codemirror_mode": {
    "name": "ipython",
    "version": 3
   },
   "file_extension": ".py",
   "mimetype": "text/x-python",
   "name": "python",
   "nbconvert_exporter": "python",
   "pygments_lexer": "ipython3",
   "version": "3.11.1"
  }
 },
 "nbformat": 4,
 "nbformat_minor": 5
}
